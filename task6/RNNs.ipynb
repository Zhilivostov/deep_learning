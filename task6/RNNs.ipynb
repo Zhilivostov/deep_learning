{
 "cells": [
  {
   "cell_type": "markdown",
   "metadata": {},
   "source": [
    "# Задание 6: Рекуррентные нейронные сети (RNNs)\n",
    "\n",
    "Это задание адаптиповано из Deep NLP Course at ABBYY (https://github.com/DanAnastasyev/DeepNLP-Course) с разрешения автора - Даниила Анастасьева. Спасибо ему огромное!"
   ]
  },
  {
   "cell_type": "code",
   "execution_count": 1,
   "metadata": {
    "colab": {},
    "colab_type": "code",
    "id": "P59NYU98GCb9"
   },
   "outputs": [],
   "source": [
    "#!pip3 -qq install torch==0.4.1\n",
    "#!pip3 -qq install bokeh==0.13.0\n",
    "#!pip3 -qq install gensim==3.6.0\n",
    "#!pip3 -qq install nltk\n",
    "#!pip3 -qq install scikit-learn==0.20.2"
   ]
  },
  {
   "cell_type": "code",
   "execution_count": 1,
   "metadata": {
    "colab": {},
    "colab_type": "code",
    "id": "8sVtGHmA9aBM"
   },
   "outputs": [],
   "source": [
    "import numpy as np\n",
    "\n",
    "import torch\n",
    "import torch.nn as nn\n",
    "import torch.nn.functional as F\n",
    "import torch.optim as optim\n",
    "\n",
    "\n",
    "if torch.cuda.is_available():\n",
    "    from torch.cuda import FloatTensor, LongTensor\n",
    "else:\n",
    "    from torch import FloatTensor, LongTensor\n",
    "\n",
    "np.random.seed(42)"
   ]
  },
  {
   "cell_type": "markdown",
   "metadata": {
    "colab_type": "text",
    "id": "-6CNKM3b4hT1"
   },
   "source": [
    "# Рекуррентные нейронные сети (RNNs)"
   ]
  },
  {
   "cell_type": "markdown",
   "metadata": {
    "colab_type": "text",
    "id": "O_XkoGNQUeGm"
   },
   "source": [
    "## POS Tagging"
   ]
  },
  {
   "cell_type": "markdown",
   "metadata": {
    "colab_type": "text",
    "id": "QFEtWrS_4rUs"
   },
   "source": [
    "Мы рассмотрим применение рекуррентных сетей к задаче sequence labeling (последняя картинка).\n",
    "\n",
    "![RNN types](http://karpathy.github.io/assets/rnn/diags.jpeg)\n",
    "\n",
    "*From [The Unreasonable Effectiveness of Recurrent Neural Networks](http://karpathy.github.io/2015/05/21/rnn-effectiveness/)*\n",
    "\n",
    "Самые популярные примеры для такой постановки задачи - Part-of-Speech Tagging и Named Entity Recognition.\n",
    "\n",
    "Мы порешаем сейчас POS Tagging для английского.\n",
    "\n",
    "Будем работать с таким набором тегов:\n",
    "- ADJ - adjective (new, good, high, ...)\n",
    "- ADP - adposition (on, of, at, ...)\n",
    "- ADV - adverb (really, already, still, ...)\n",
    "- CONJ - conjunction (and, or, but, ...)\n",
    "- DET - determiner, article (the, a, some, ...)\n",
    "- NOUN - noun (year, home, costs, ...)\n",
    "- NUM - numeral (twenty-four, fourth, 1991, ...)\n",
    "- PRT - particle (at, on, out, ...)\n",
    "- PRON - pronoun (he, their, her, ...)\n",
    "- VERB - verb (is, say, told, ...)\n",
    "- . - punctuation marks (. , ;)\n",
    "- X - other (ersatz, esprit, dunno, ...)"
   ]
  },
  {
   "cell_type": "markdown",
   "metadata": {
    "colab_type": "text",
    "id": "EPIkKdFlHB-X"
   },
   "source": [
    "Скачаем данные:"
   ]
  },
  {
   "cell_type": "code",
   "execution_count": 3,
   "metadata": {
    "colab": {},
    "colab_type": "code",
    "id": "TiA2dGmgF1rW"
   },
   "outputs": [
    {
     "name": "stderr",
     "output_type": "stream",
     "text": [
      "[nltk_data] Downloading package brown to\n",
      "[nltk_data]     C:\\Users\\1\\AppData\\Roaming\\nltk_data...\n",
      "[nltk_data]   Package brown is already up-to-date!\n",
      "[nltk_data] Downloading package universal_tagset to\n",
      "[nltk_data]     C:\\Users\\1\\AppData\\Roaming\\nltk_data...\n",
      "[nltk_data]   Package universal_tagset is already up-to-date!\n"
     ]
    }
   ],
   "source": [
    "import nltk\n",
    "from sklearn.model_selection import train_test_split\n",
    "\n",
    "nltk.download('brown')\n",
    "nltk.download('universal_tagset')\n",
    "\n",
    "data = nltk.corpus.brown.tagged_sents(tagset='universal')"
   ]
  },
  {
   "cell_type": "markdown",
   "metadata": {
    "colab_type": "text",
    "id": "d93g_swyJA_V"
   },
   "source": [
    "Пример размеченного предложения:"
   ]
  },
  {
   "cell_type": "code",
   "execution_count": 4,
   "metadata": {
    "colab": {},
    "colab_type": "code",
    "id": "QstS4NO0L97c"
   },
   "outputs": [
    {
     "name": "stdout",
     "output_type": "stream",
     "text": [
      "The            \tDET\n",
      "Fulton         \tNOUN\n",
      "County         \tNOUN\n",
      "Grand          \tADJ\n",
      "Jury           \tNOUN\n",
      "said           \tVERB\n",
      "Friday         \tNOUN\n",
      "an             \tDET\n",
      "investigation  \tNOUN\n",
      "of             \tADP\n",
      "Atlanta's      \tNOUN\n",
      "recent         \tADJ\n",
      "primary        \tNOUN\n",
      "election       \tNOUN\n",
      "produced       \tVERB\n",
      "``             \t.\n",
      "no             \tDET\n",
      "evidence       \tNOUN\n",
      "''             \t.\n",
      "that           \tADP\n",
      "any            \tDET\n",
      "irregularities \tNOUN\n",
      "took           \tVERB\n",
      "place          \tNOUN\n",
      ".              \t.\n"
     ]
    }
   ],
   "source": [
    "for word, tag in data[0]:\n",
    "    print('{:15}\\t{}'.format(word, tag))"
   ]
  },
  {
   "cell_type": "markdown",
   "metadata": {
    "colab_type": "text",
    "id": "epdW8u_YXcAv"
   },
   "source": [
    "Построим разбиение на train/val/test - наконец-то, всё как у нормальных людей.\n",
    "\n",
    "На train будем учиться, по val - подбирать параметры и делать всякие early stopping, а на test - принимать модель по ее финальному качеству."
   ]
  },
  {
   "cell_type": "code",
   "execution_count": 5,
   "metadata": {
    "colab": {},
    "colab_type": "code",
    "id": "xTai8Ta0lgwL"
   },
   "outputs": [
    {
     "name": "stdout",
     "output_type": "stream",
     "text": [
      "Words count in train set: 739769\n",
      "Words count in val set: 130954\n",
      "Words count in test set: 290469\n"
     ]
    }
   ],
   "source": [
    "train_data, test_data = train_test_split(data, test_size=0.25, random_state=42)\n",
    "train_data, val_data = train_test_split(train_data, test_size=0.15, random_state=42)\n",
    "\n",
    "print('Words count in train set:', sum(len(sent) for sent in train_data))\n",
    "print('Words count in val set:', sum(len(sent) for sent in val_data))\n",
    "print('Words count in test set:', sum(len(sent) for sent in test_data))"
   ]
  },
  {
   "cell_type": "markdown",
   "metadata": {
    "colab_type": "text",
    "id": "eChdLNGtXyP0"
   },
   "source": [
    "Построим маппинги из слов в индекс и из тега в индекс:\n"
   ]
  },
  {
   "cell_type": "code",
   "execution_count": 6,
   "metadata": {
    "colab": {},
    "colab_type": "code",
    "id": "pCjwwDs6Zq9x"
   },
   "outputs": [
    {
     "name": "stdout",
     "output_type": "stream",
     "text": [
      "Unique words in train = 45441. Tags = {'NUM', 'X', 'ADV', 'DET', '.', 'PRT', 'PRON', 'VERB', 'CONJ', 'NOUN', 'ADP', 'ADJ'}\n"
     ]
    }
   ],
   "source": [
    "words = {word for sample in train_data for word, tag in sample}\n",
    "word2ind = {word: ind + 1 for ind, word in enumerate(words)}\n",
    "word2ind['<pad>'] = 0\n",
    "\n",
    "tags = {tag for sample in train_data for word, tag in sample}\n",
    "tag2ind = {tag: ind + 1 for ind, tag in enumerate(tags)}\n",
    "tag2ind['<pad>'] = 0\n",
    "\n",
    "print('Unique words in train = {}. Tags = {}'.format(len(word2ind), tags))"
   ]
  },
  {
   "cell_type": "code",
   "execution_count": 7,
   "metadata": {
    "colab": {},
    "colab_type": "code",
    "id": "URC1B2nvPGFt"
   },
   "outputs": [
    {
     "data": {
      "image/png": "[encoded data removed]",
      "text/plain": [
       "<Figure size 1000x500 with 1 Axes>"
      ]
     },
     "metadata": {},
     "output_type": "display_data"
    }
   ],
   "source": [
    "import matplotlib.pyplot as plt\n",
    "%matplotlib inline\n",
    "\n",
    "from collections import Counter\n",
    "\n",
    "tag_distribution = Counter(tag for sample in train_data for _, tag in sample)\n",
    "tag_distribution = [tag_distribution[tag] for tag in tags]\n",
    "\n",
    "plt.figure(figsize=(10, 5))\n",
    "\n",
    "bar_width = 0.35\n",
    "plt.bar(np.arange(len(tags)), tag_distribution, bar_width, align='center', alpha=0.5)\n",
    "plt.xticks(np.arange(len(tags)), tags)\n",
    "    \n",
    "plt.show()"
   ]
  },
  {
   "cell_type": "markdown",
   "metadata": {
    "colab_type": "text",
    "id": "gArQwbzWWkgi"
   },
   "source": [
    "## Бейзлайн\n",
    "\n",
    "Какой самый простой теггер можно придумать? Давайте просто запоминать, какие теги самые вероятные для слова (или для последовательности):\n",
    "\n",
    "![tag-context](https://www.nltk.org/images/tag-context.png)  \n",
    "*From [Categorizing and Tagging Words, nltk](https://www.nltk.org/book/ch05.html)*\n",
    "\n",
    "На картинке показано, что для предсказания $t_n$ используются два предыдущих предсказанных тега + текущее слово. По корпусу считаются вероятность для $P(t_n| w_n, t_{n-1}, t_{n-2})$, выбирается тег с максимальной вероятностью.\n",
    "\n",
    "Более аккуратно такая идея реализована в Hidden Markov Models: по тренировочному корпусу вычисляются вероятности $P(w_n| t_n), P(t_n|t_{n-1}, t_{n-2})$ и максимизируется их произведение.\n",
    "\n",
    "Простейший вариант - униграммная модель, учитывающая только слово:"
   ]
  },
  {
   "cell_type": "code",
   "execution_count": 8,
   "metadata": {
    "colab": {},
    "colab_type": "code",
    "id": "5rWmSToIaeAo"
   },
   "outputs": [
    {
     "name": "stderr",
     "output_type": "stream",
     "text": [
      "C:\\Users\\1\\AppData\\Local\\Temp\\ipykernel_12336\\3805302136.py:6: DeprecationWarning: \n",
      "  Function evaluate() has been deprecated.  Use accuracy(gold)\n",
      "  instead.\n",
      "  print('Accuracy of unigram tagger = {:.2%}'.format(unigram_tagger.evaluate(test_data)))\n"
     ]
    },
    {
     "name": "stdout",
     "output_type": "stream",
     "text": [
      "Accuracy of unigram tagger = 92.62%\n"
     ]
    }
   ],
   "source": [
    "import nltk\n",
    "\n",
    "default_tagger = nltk.DefaultTagger('NN')\n",
    "\n",
    "unigram_tagger = nltk.UnigramTagger(train_data, backoff=default_tagger)\n",
    "print('Accuracy of unigram tagger = {:.2%}'.format(unigram_tagger.evaluate(test_data)))"
   ]
  },
  {
   "cell_type": "markdown",
   "metadata": {
    "colab_type": "text",
    "id": "07Ymb_MkbWsF"
   },
   "source": [
    "Добавим вероятности переходов:"
   ]
  },
  {
   "cell_type": "code",
   "execution_count": 9,
   "metadata": {
    "colab": {},
    "colab_type": "code",
    "id": "vjz_Rk0bbMyH"
   },
   "outputs": [
    {
     "name": "stderr",
     "output_type": "stream",
     "text": [
      "C:\\Users\\1\\AppData\\Local\\Temp\\ipykernel_12336\\648162845.py:2: DeprecationWarning: \n",
      "  Function evaluate() has been deprecated.  Use accuracy(gold)\n",
      "  instead.\n",
      "  print('Accuracy of bigram tagger = {:.2%}'.format(bigram_tagger.evaluate(test_data)))\n"
     ]
    },
    {
     "name": "stdout",
     "output_type": "stream",
     "text": [
      "Accuracy of bigram tagger = 93.42%\n"
     ]
    }
   ],
   "source": [
    "bigram_tagger = nltk.BigramTagger(train_data, backoff=unigram_tagger)\n",
    "print('Accuracy of bigram tagger = {:.2%}'.format(bigram_tagger.evaluate(test_data)))"
   ]
  },
  {
   "cell_type": "markdown",
   "metadata": {
    "colab_type": "text",
    "id": "uWMw6QHvbaDd"
   },
   "source": [
    "Обратите внимание, что `backoff` важен:"
   ]
  },
  {
   "cell_type": "code",
   "execution_count": 10,
   "metadata": {
    "colab": {},
    "colab_type": "code",
    "id": "8XCuxEBVbOY_"
   },
   "outputs": [
    {
     "name": "stderr",
     "output_type": "stream",
     "text": [
      "C:\\Users\\1\\AppData\\Local\\Temp\\ipykernel_12336\\28852427.py:2: DeprecationWarning: \n",
      "  Function evaluate() has been deprecated.  Use accuracy(gold)\n",
      "  instead.\n",
      "  print('Accuracy of trigram tagger = {:.2%}'.format(trigram_tagger.evaluate(test_data)))\n"
     ]
    },
    {
     "name": "stdout",
     "output_type": "stream",
     "text": [
      "Accuracy of trigram tagger = 23.33%\n"
     ]
    }
   ],
   "source": [
    "trigram_tagger = nltk.TrigramTagger(train_data)\n",
    "print('Accuracy of trigram tagger = {:.2%}'.format(trigram_tagger.evaluate(test_data)))"
   ]
  },
  {
   "cell_type": "markdown",
   "metadata": {
    "colab_type": "text",
    "id": "4t3xyYd__8d-"
   },
   "source": [
    "## Увеличиваем контекст с рекуррентными сетями\n",
    "\n",
    "Униграмная модель работает на удивление хорошо, но мы же собрались учить сеточки.\n",
    "\n",
    "Омонимия - основная причина, почему униграмная модель плоха:  \n",
    "*“he cashed a check at the **bank**”*  \n",
    "vs  \n",
    "*“he sat on the **bank** of the river”*\n",
    "\n",
    "Поэтому нам очень полезно учитывать контекст при предсказании тега.\n",
    "\n",
    "Воспользуемся LSTM - он умеет работать с контекстом очень даже хорошо:\n",
    "\n",
    "![](https://image.ibb.co/kgmoff/Baseline-Tagger.png)\n",
    "\n",
    "Синим показано выделение фичей из слова, LSTM оранжевенький - он строит эмбеддинги слов с учетом контекста, а дальше зелененькая логистическая регрессия делает предсказания тегов."
   ]
  },
  {
   "cell_type": "code",
   "execution_count": 11,
   "metadata": {
    "colab": {},
    "colab_type": "code",
    "id": "RtRbz1SwgEqc"
   },
   "outputs": [],
   "source": [
    "def convert_data(data, word2ind, tag2ind):\n",
    "    X = [[word2ind.get(word, 0) for word, _ in sample] for sample in data]\n",
    "    y = [[tag2ind[tag] for _, tag in sample] for sample in data]\n",
    "    \n",
    "    return X, y\n",
    "\n",
    "X_train, y_train = convert_data(train_data, word2ind, tag2ind)\n",
    "X_val, y_val = convert_data(val_data, word2ind, tag2ind)\n",
    "X_test, y_test = convert_data(test_data, word2ind, tag2ind)"
   ]
  },
  {
   "cell_type": "code",
   "execution_count": 12,
   "metadata": {
    "colab": {},
    "colab_type": "code",
    "id": "DhsTKZalfih6"
   },
   "outputs": [],
   "source": [
    "def iterate_batches(data, batch_size):\n",
    "    X, y = data\n",
    "    n_samples = len(X)\n",
    "\n",
    "    indices = np.arange(n_samples)\n",
    "    np.random.shuffle(indices)\n",
    "    \n",
    "    for start in range(0, n_samples, batch_size):\n",
    "        end = min(start + batch_size, n_samples)\n",
    "        \n",
    "        batch_indices = indices[start:end]\n",
    "        \n",
    "        max_sent_len = max(len(X[ind]) for ind in batch_indices)\n",
    "        X_batch = np.zeros((max_sent_len, len(batch_indices)))\n",
    "        y_batch = np.zeros((max_sent_len, len(batch_indices)))\n",
    "        \n",
    "        for batch_ind, sample_ind in enumerate(batch_indices):\n",
    "            X_batch[:len(X[sample_ind]), batch_ind] = X[sample_ind]\n",
    "            y_batch[:len(y[sample_ind]), batch_ind] = y[sample_ind]\n",
    "            \n",
    "        yield X_batch, y_batch"
   ]
  },
  {
   "cell_type": "code",
   "execution_count": 13,
   "metadata": {
    "colab": {},
    "colab_type": "code",
    "id": "l4XsRII5kW5x"
   },
   "outputs": [
    {
     "data": {
      "text/plain": [
       "((32, 4), (32, 4))"
      ]
     },
     "execution_count": 13,
     "metadata": {},
     "output_type": "execute_result"
    }
   ],
   "source": [
    "X_batch, y_batch = next(iterate_batches((X_train, y_train), 4))\n",
    "\n",
    "X_batch.shape, y_batch.shape"
   ]
  },
  {
   "cell_type": "markdown",
   "metadata": {
    "colab_type": "text",
    "id": "C5I9E9P6eFYv"
   },
   "source": [
    "**Задание** Реализуйте `LSTMTagger`:"
   ]
  },
  {
   "cell_type": "code",
   "execution_count": 14,
   "metadata": {
    "colab": {},
    "colab_type": "code",
    "id": "WVEHju54d68T"
   },
   "outputs": [],
   "source": [
    "class LSTMTagger(nn.Module):\n",
    "    def __init__(self, vocab_size, tagset_size, word_emb_dim=100, lstm_hidden_dim=128, lstm_layers_count=1):\n",
    "        super().__init__()\n",
    "        \n",
    "        # Word embedding layer\n",
    "        self.word_embeddings = nn.Embedding(vocab_size, word_emb_dim)\n",
    "        \n",
    "        # LSTM layer\n",
    "        self.lstm = nn.LSTM(word_emb_dim, \n",
    "                           lstm_hidden_dim, \n",
    "                           num_layers=lstm_layers_count,\n",
    "                           batch_first=True)\n",
    "        \n",
    "        # Linear layer to map from LSTM hidden state to tag space\n",
    "        self.hidden2tag = nn.Linear(lstm_hidden_dim, tagset_size)\n",
    "\n",
    "    def forward(self, inputs):\n",
    "        \n",
    "        # Get embeddings for the input tokens\n",
    "        embeds = self.word_embeddings(inputs)\n",
    "        \n",
    "        # Pass through LSTM\n",
    "        lstm_out, _ = self.lstm(embeds)\n",
    "        \n",
    "        # Convert LSTM outputs to tag space\n",
    "        tag_space = self.hidden2tag(lstm_out)\n",
    "        \n",
    "        return tag_space"
   ]
  },
  {
   "cell_type": "markdown",
   "metadata": {
    "colab_type": "text",
    "id": "q_HA8zyheYGH"
   },
   "source": [
    "**Задание** Научитесь считать accuracy и loss (а заодно проверьте, что модель работает)"
   ]
  },
  {
   "cell_type": "code",
   "execution_count": 15,
   "metadata": {
    "colab": {},
    "colab_type": "code",
    "id": "jbrxsZ2mehWB"
   },
   "outputs": [],
   "source": [
    "model = LSTMTagger(\n",
    "    vocab_size=len(word2ind),\n",
    "    tagset_size=len(tag2ind)\n",
    ")\n",
    "\n",
    "X_batch, y_batch = torch.LongTensor(X_batch), torch.LongTensor(y_batch)\n",
    "\n",
    "logits = model(X_batch)\n",
    "\n",
    "predicted_tags = torch.argmax(logits, dim=-1)  # shape: (batch_size, sequence_length)\n",
    "correct = (predicted_tags == y_batch).sum().item()\n",
    "total = y_batch.numel()\n",
    "accuracy = correct / total"
   ]
  },
  {
   "cell_type": "code",
   "execution_count": 16,
   "metadata": {
    "colab": {},
    "colab_type": "code",
    "id": "GMUyUm1hgpe3"
   },
   "outputs": [],
   "source": [
    "criterion = nn.CrossEntropyLoss()\n",
    "# Need to reshape logits and labels for CrossEntropyLoss:\n",
    "# (batch_size, seq_len, num_tags) -> (batch_size*seq_len, num_tags)\n",
    "# (batch_size, seq_len) -> (batch_size*seq_len)\n",
    "loss = criterion(logits.view(-1, logits.size(-1)), y_batch.view(-1))"
   ]
  },
  {
   "cell_type": "markdown",
   "metadata": {
    "colab_type": "text",
    "id": "nSgV3NPUpcjH"
   },
   "source": [
    "**Задание** Вставьте эти вычисление в функцию:"
   ]
  },
  {
   "cell_type": "code",
   "execution_count": 22,
   "metadata": {
    "colab": {},
    "colab_type": "code",
    "id": "FprPQ0gllo7b"
   },
   "outputs": [],
   "source": [
    "import math\n",
    "from tqdm import tqdm\n",
    "\n",
    "\n",
    "def do_epoch(model, criterion, data, batch_size, optimizer=None, name=None):\n",
    "    epoch_loss = 0\n",
    "    correct_count = 0\n",
    "    sum_count = 0\n",
    "    \n",
    "    is_train = not optimizer is None\n",
    "    name = name or ''\n",
    "    model.train(is_train)\n",
    "    \n",
    "    batches_count = math.ceil(len(data[0]) / batch_size)\n",
    "    \n",
    "    with torch.autograd.set_grad_enabled(is_train):\n",
    "        with tqdm(total=batches_count) as progress_bar:\n",
    "            for i, (X_batch, y_batch) in enumerate(iterate_batches(data, batch_size)):\n",
    "                X_batch, y_batch = LongTensor(X_batch), LongTensor(y_batch)\n",
    "                logits = model(X_batch)\n",
    "\n",
    "                loss = criterion(logits.view(-1, logits.size(-1)), y_batch.view(-1))\n",
    "\n",
    "                epoch_loss += loss.item()\n",
    "\n",
    "                if optimizer:\n",
    "                    optimizer.zero_grad()\n",
    "                    loss.backward()\n",
    "                    optimizer.step()\n",
    "\n",
    "                #cur_correct_count, cur_sum_count = <calc accuracy>\n",
    "                predicted_tags = torch.argmax(logits, dim=-1)\n",
    "                cur_correct_count = (predicted_tags == y_batch).sum().item()\n",
    "                cur_sum_count = y_batch.numel()\n",
    "\n",
    "                correct_count += cur_correct_count\n",
    "                sum_count += cur_sum_count\n",
    "\n",
    "                progress_bar.update()\n",
    "                progress_bar.set_description('{:>5s} Loss = {:.5f}, Accuracy = {:.2%}'.format(\n",
    "                    name, loss.item(), cur_correct_count / cur_sum_count)\n",
    "                )\n",
    "                \n",
    "            progress_bar.set_description('{:>5s} Loss = {:.5f}, Accuracy = {:.2%}'.format(\n",
    "                name, epoch_loss / batches_count, correct_count / sum_count)\n",
    "            )\n",
    "\n",
    "    return epoch_loss / batches_count, correct_count / sum_count\n",
    "\n",
    "\n",
    "def fit(model, criterion, optimizer, train_data, epochs_count=1, batch_size=32,\n",
    "        val_data=None, val_batch_size=None):\n",
    "        \n",
    "    if not val_data is None and val_batch_size is None:\n",
    "        val_batch_size = batch_size\n",
    "        \n",
    "    for epoch in range(epochs_count):\n",
    "        name_prefix = '[{} / {}] '.format(epoch + 1, epochs_count)\n",
    "        train_loss, train_acc = do_epoch(model, criterion, train_data, batch_size, optimizer, name_prefix + 'Train:')\n",
    "        \n",
    "        if not val_data is None:\n",
    "            val_loss, val_acc = do_epoch(model, criterion, val_data, val_batch_size, None, name_prefix + '  Val:')"
   ]
  },
  {
   "cell_type": "code",
   "execution_count": 23,
   "metadata": {
    "colab": {},
    "colab_type": "code",
    "id": "Pqfbeh1ltEYa"
   },
   "outputs": [
    {
     "name": "stderr",
     "output_type": "stream",
     "text": [
      "[1 / 50] Train: Loss = 0.34254, Accuracy = 90.04%: 100%|██████████| 572/572 [00:10<00:00, 52.52it/s]\n",
      "[1 / 50]   Val: Loss = 0.14410, Accuracy = 96.81%: 100%|██████████| 13/13 [00:00<00:00, 24.04it/s]\n",
      "[2 / 50] Train: Loss = 0.11485, Accuracy = 96.40%: 100%|██████████| 572/572 [00:10<00:00, 53.91it/s]\n",
      "[2 / 50]   Val: Loss = 0.11823, Accuracy = 97.80%: 100%|██████████| 13/13 [00:00<00:00, 23.57it/s]\n",
      "[3 / 50] Train: Loss = 0.08166, Accuracy = 97.37%: 100%|██████████| 572/572 [00:10<00:00, 53.92it/s]\n",
      "[3 / 50]   Val: Loss = 0.10843, Accuracy = 98.14%: 100%|██████████| 13/13 [00:00<00:00, 23.57it/s]\n",
      "[4 / 50] Train: Loss = 0.06655, Accuracy = 97.79%: 100%|██████████| 572/572 [00:10<00:00, 53.65it/s]\n",
      "[4 / 50]   Val: Loss = 0.11201, Accuracy = 98.26%: 100%|██████████| 13/13 [00:00<00:00, 23.71it/s]\n",
      "[5 / 50] Train: Loss = 0.05727, Accuracy = 98.03%: 100%|██████████| 572/572 [00:10<00:00, 53.70it/s]\n",
      "[5 / 50]   Val: Loss = 0.10273, Accuracy = 98.40%: 100%|██████████| 13/13 [00:00<00:00, 22.35it/s]\n",
      "[6 / 50] Train: Loss = 0.05079, Accuracy = 98.19%: 100%|██████████| 572/572 [00:10<00:00, 53.33it/s]\n",
      "[6 / 50]   Val: Loss = 0.11095, Accuracy = 98.37%: 100%|██████████| 13/13 [00:00<00:00, 22.75it/s]\n",
      "[7 / 50] Train: Loss = 0.04696, Accuracy = 98.29%: 100%|██████████| 572/572 [00:10<00:00, 53.35it/s]\n",
      "[7 / 50]   Val: Loss = 0.10860, Accuracy = 98.45%: 100%|██████████| 13/13 [00:00<00:00, 23.01it/s]\n",
      "[8 / 50] Train: Loss = 0.04331, Accuracy = 98.38%: 100%|██████████| 572/572 [00:10<00:00, 52.64it/s]\n",
      "[8 / 50]   Val: Loss = 0.11043, Accuracy = 98.45%: 100%|██████████| 13/13 [00:00<00:00, 23.35it/s]\n",
      "[9 / 50] Train: Loss = 0.04082, Accuracy = 98.44%: 100%|██████████| 572/572 [00:11<00:00, 51.54it/s]\n",
      "[9 / 50]   Val: Loss = 0.11111, Accuracy = 98.50%: 100%|██████████| 13/13 [00:00<00:00, 22.36it/s]\n",
      "[10 / 50] Train: Loss = 0.03902, Accuracy = 98.49%: 100%|██████████| 572/572 [00:11<00:00, 50.95it/s]\n",
      "[10 / 50]   Val: Loss = 0.10555, Accuracy = 98.56%: 100%|██████████| 13/13 [00:00<00:00, 22.35it/s]\n",
      "[11 / 50] Train: Loss = 0.03763, Accuracy = 98.53%: 100%|██████████| 572/572 [00:11<00:00, 51.11it/s]\n",
      "[11 / 50]   Val: Loss = 0.10740, Accuracy = 98.54%: 100%|██████████| 13/13 [00:00<00:00, 21.76it/s]\n",
      "[12 / 50] Train: Loss = 0.03661, Accuracy = 98.54%: 100%|██████████| 572/572 [00:11<00:00, 51.09it/s]\n",
      "[12 / 50]   Val: Loss = 0.11146, Accuracy = 98.52%: 100%|██████████| 13/13 [00:00<00:00, 22.34it/s]\n",
      "[13 / 50] Train: Loss = 0.03570, Accuracy = 98.57%: 100%|██████████| 572/572 [00:11<00:00, 50.82it/s]\n",
      "[13 / 50]   Val: Loss = 0.11108, Accuracy = 98.52%: 100%|██████████| 13/13 [00:00<00:00, 22.32it/s]\n",
      "[14 / 50] Train: Loss = 0.03470, Accuracy = 98.60%: 100%|██████████| 572/572 [00:11<00:00, 50.33it/s]\n",
      "[14 / 50]   Val: Loss = 0.12309, Accuracy = 98.43%: 100%|██████████| 13/13 [00:00<00:00, 23.81it/s]\n",
      "[15 / 50] Train: Loss = 0.03442, Accuracy = 98.60%: 100%|██████████| 572/572 [00:11<00:00, 50.51it/s]\n",
      "[15 / 50]   Val: Loss = 0.12050, Accuracy = 98.47%: 100%|██████████| 13/13 [00:00<00:00, 22.34it/s]\n",
      "[16 / 50] Train: Loss = 0.03386, Accuracy = 98.61%: 100%|██████████| 572/572 [00:11<00:00, 49.85it/s]\n",
      "[16 / 50]   Val: Loss = 0.12280, Accuracy = 98.42%: 100%|██████████| 13/13 [00:00<00:00, 23.52it/s]\n",
      "[17 / 50] Train: Loss = 0.03365, Accuracy = 98.61%: 100%|██████████| 572/572 [00:11<00:00, 49.83it/s]\n",
      "[17 / 50]   Val: Loss = 0.11133, Accuracy = 98.58%: 100%|██████████| 13/13 [00:00<00:00, 21.58it/s]\n",
      "[18 / 50] Train: Loss = 0.03306, Accuracy = 98.63%: 100%|██████████| 572/572 [00:11<00:00, 48.79it/s]\n",
      "[18 / 50]   Val: Loss = 0.11862, Accuracy = 98.51%: 100%|██████████| 13/13 [00:00<00:00, 20.60it/s]\n",
      "[19 / 50] Train: Loss = 0.03277, Accuracy = 98.64%: 100%|██████████| 572/572 [00:13<00:00, 42.82it/s]\n",
      "[19 / 50]   Val: Loss = 0.12340, Accuracy = 98.44%: 100%|██████████| 13/13 [00:00<00:00, 22.15it/s]\n",
      "[20 / 50] Train: Loss = 0.03249, Accuracy = 98.64%: 100%|██████████| 572/572 [00:11<00:00, 47.91it/s]\n",
      "[20 / 50]   Val: Loss = 0.11980, Accuracy = 98.54%: 100%|██████████| 13/13 [00:00<00:00, 21.52it/s]\n",
      "[21 / 50] Train: Loss = 0.03255, Accuracy = 98.64%: 100%|██████████| 572/572 [00:11<00:00, 48.64it/s]\n",
      "[21 / 50]   Val: Loss = 0.12077, Accuracy = 98.55%: 100%|██████████| 13/13 [00:00<00:00, 21.90it/s]\n",
      "[22 / 50] Train: Loss = 0.03229, Accuracy = 98.65%: 100%|██████████| 572/572 [00:11<00:00, 48.52it/s]\n",
      "[22 / 50]   Val: Loss = 0.12640, Accuracy = 98.49%: 100%|██████████| 13/13 [00:00<00:00, 22.28it/s]\n",
      "[23 / 50] Train: Loss = 0.03202, Accuracy = 98.66%: 100%|██████████| 572/572 [00:11<00:00, 48.17it/s]\n",
      "[23 / 50]   Val: Loss = 0.13934, Accuracy = 98.36%: 100%|██████████| 13/13 [00:00<00:00, 24.78it/s]\n",
      "[24 / 50] Train: Loss = 0.03188, Accuracy = 98.67%: 100%|██████████| 572/572 [00:11<00:00, 48.03it/s]\n",
      "[24 / 50]   Val: Loss = 0.12885, Accuracy = 98.47%: 100%|██████████| 13/13 [00:00<00:00, 22.41it/s]\n",
      "[25 / 50] Train: Loss = 0.03207, Accuracy = 98.65%: 100%|██████████| 572/572 [00:11<00:00, 47.69it/s]\n",
      "[25 / 50]   Val: Loss = 0.12721, Accuracy = 98.58%: 100%|██████████| 13/13 [00:00<00:00, 20.68it/s]\n",
      "[26 / 50] Train: Loss = 0.03153, Accuracy = 98.67%: 100%|██████████| 572/572 [00:12<00:00, 46.98it/s]\n",
      "[26 / 50]   Val: Loss = 0.13131, Accuracy = 98.47%: 100%|██████████| 13/13 [00:00<00:00, 21.98it/s]\n",
      "[27 / 50] Train: Loss = 0.03185, Accuracy = 98.66%: 100%|██████████| 572/572 [00:12<00:00, 47.08it/s]\n",
      "[27 / 50]   Val: Loss = 0.14173, Accuracy = 98.46%: 100%|██████████| 13/13 [00:00<00:00, 22.44it/s]\n",
      "[28 / 50] Train: Loss = 0.03169, Accuracy = 98.66%: 100%|██████████| 572/572 [00:12<00:00, 46.60it/s]\n",
      "[28 / 50]   Val: Loss = 0.13225, Accuracy = 98.52%: 100%|██████████| 13/13 [00:00<00:00, 21.28it/s]\n",
      "[29 / 50] Train: Loss = 0.03158, Accuracy = 98.67%: 100%|██████████| 572/572 [00:12<00:00, 46.35it/s]\n",
      "[29 / 50]   Val: Loss = 0.12862, Accuracy = 98.57%: 100%|██████████| 13/13 [00:00<00:00, 20.62it/s]\n",
      "[30 / 50] Train: Loss = 0.03144, Accuracy = 98.67%: 100%|██████████| 572/572 [00:12<00:00, 46.49it/s]\n",
      "[30 / 50]   Val: Loss = 0.13814, Accuracy = 98.53%: 100%|██████████| 13/13 [00:00<00:00, 20.40it/s]\n",
      "[31 / 50] Train: Loss = 0.03163, Accuracy = 98.66%: 100%|██████████| 572/572 [00:12<00:00, 46.12it/s]\n",
      "[31 / 50]   Val: Loss = 0.14098, Accuracy = 98.53%: 100%|██████████| 13/13 [00:00<00:00, 21.07it/s]\n",
      "[32 / 50] Train: Loss = 0.03164, Accuracy = 98.67%: 100%|██████████| 572/572 [00:12<00:00, 45.71it/s]\n",
      "[32 / 50]   Val: Loss = 0.13704, Accuracy = 98.54%: 100%|██████████| 13/13 [00:00<00:00, 21.47it/s]\n",
      "[33 / 50] Train: Loss = 0.03127, Accuracy = 98.68%: 100%|██████████| 572/572 [00:12<00:00, 45.71it/s]\n",
      "[33 / 50]   Val: Loss = 0.14336, Accuracy = 98.53%: 100%|██████████| 13/13 [00:00<00:00, 20.83it/s]\n",
      "[34 / 50] Train: Loss = 0.03120, Accuracy = 98.68%: 100%|██████████| 572/572 [00:12<00:00, 45.37it/s]\n",
      "[34 / 50]   Val: Loss = 0.14217, Accuracy = 98.50%: 100%|██████████| 13/13 [00:00<00:00, 22.92it/s]\n",
      "[35 / 50] Train: Loss = 0.03116, Accuracy = 98.68%: 100%|██████████| 572/572 [00:12<00:00, 45.41it/s]\n",
      "[35 / 50]   Val: Loss = 0.15613, Accuracy = 98.48%: 100%|██████████| 13/13 [00:00<00:00, 21.84it/s]\n",
      "[36 / 50] Train: Loss = 0.03137, Accuracy = 98.67%: 100%|██████████| 572/572 [00:12<00:00, 45.52it/s]\n",
      "[36 / 50]   Val: Loss = 0.14483, Accuracy = 98.50%: 100%|██████████| 13/13 [00:00<00:00, 21.53it/s]\n",
      "[37 / 50] Train: Loss = 0.03142, Accuracy = 98.67%: 100%|██████████| 572/572 [00:12<00:00, 45.44it/s]\n",
      "[37 / 50]   Val: Loss = 0.14856, Accuracy = 98.50%: 100%|██████████| 13/13 [00:00<00:00, 20.65it/s]\n",
      "[38 / 50] Train: Loss = 0.03122, Accuracy = 98.68%: 100%|██████████| 572/572 [00:12<00:00, 45.28it/s]\n",
      "[38 / 50]   Val: Loss = 0.14442, Accuracy = 98.51%: 100%|██████████| 13/13 [00:00<00:00, 21.37it/s]\n",
      "[39 / 50] Train: Loss = 0.03134, Accuracy = 98.67%: 100%|██████████| 572/572 [00:12<00:00, 44.32it/s]\n",
      "[39 / 50]   Val: Loss = 0.13358, Accuracy = 98.58%: 100%|██████████| 13/13 [00:00<00:00, 19.53it/s]\n",
      "[40 / 50] Train: Loss = 0.03105, Accuracy = 98.68%: 100%|██████████| 572/572 [00:12<00:00, 44.35it/s]\n",
      "[40 / 50]   Val: Loss = 0.13307, Accuracy = 98.57%: 100%|██████████| 13/13 [00:00<00:00, 20.09it/s]\n",
      "[41 / 50] Train: Loss = 0.03081, Accuracy = 98.70%: 100%|██████████| 572/572 [00:12<00:00, 44.90it/s]\n",
      "[41 / 50]   Val: Loss = 0.14364, Accuracy = 98.53%: 100%|██████████| 13/13 [00:00<00:00, 20.83it/s]\n",
      "[42 / 50] Train: Loss = 0.03091, Accuracy = 98.69%: 100%|██████████| 572/572 [00:12<00:00, 45.07it/s]\n",
      "[42 / 50]   Val: Loss = 0.13813, Accuracy = 98.53%: 100%|██████████| 13/13 [00:00<00:00, 21.11it/s]\n",
      "[43 / 50] Train: Loss = 0.03110, Accuracy = 98.68%: 100%|██████████| 572/572 [00:13<00:00, 43.85it/s]\n",
      "[43 / 50]   Val: Loss = 0.13731, Accuracy = 98.61%: 100%|██████████| 13/13 [00:00<00:00, 19.10it/s]\n",
      "[44 / 50] Train: Loss = 0.03103, Accuracy = 98.68%: 100%|██████████| 572/572 [00:12<00:00, 44.90it/s]\n",
      "[44 / 50]   Val: Loss = 0.14650, Accuracy = 98.50%: 100%|██████████| 13/13 [00:00<00:00, 21.55it/s]\n",
      "[45 / 50] Train: Loss = 0.03117, Accuracy = 98.68%: 100%|██████████| 572/572 [00:12<00:00, 45.01it/s]\n",
      "[45 / 50]   Val: Loss = 0.13801, Accuracy = 98.57%: 100%|██████████| 13/13 [00:00<00:00, 20.13it/s]\n",
      "[46 / 50] Train: Loss = 0.03071, Accuracy = 98.70%: 100%|██████████| 572/572 [00:12<00:00, 44.55it/s]\n",
      "[46 / 50]   Val: Loss = 0.13861, Accuracy = 98.55%: 100%|██████████| 13/13 [00:00<00:00, 20.47it/s]\n",
      "[47 / 50] Train: Loss = 0.03061, Accuracy = 98.69%: 100%|██████████| 572/572 [00:12<00:00, 44.13it/s]\n",
      "[47 / 50]   Val: Loss = 0.12868, Accuracy = 98.57%: 100%|██████████| 13/13 [00:00<00:00, 21.08it/s]\n",
      "[48 / 50] Train: Loss = 0.03086, Accuracy = 98.68%: 100%|██████████| 572/572 [00:12<00:00, 44.38it/s]\n",
      "[48 / 50]   Val: Loss = 0.14062, Accuracy = 98.56%: 100%|██████████| 13/13 [00:00<00:00, 20.61it/s]\n",
      "[49 / 50] Train: Loss = 0.03065, Accuracy = 98.69%: 100%|██████████| 572/572 [00:13<00:00, 43.90it/s]\n",
      "[49 / 50]   Val: Loss = 0.14372, Accuracy = 98.54%: 100%|██████████| 13/13 [00:00<00:00, 22.31it/s]\n",
      "[50 / 50] Train: Loss = 0.03086, Accuracy = 98.69%: 100%|██████████| 572/572 [00:12<00:00, 44.04it/s]\n",
      "[50 / 50]   Val: Loss = 0.14603, Accuracy = 98.53%: 100%|██████████| 13/13 [00:00<00:00, 22.31it/s]\n"
     ]
    }
   ],
   "source": [
    "model = LSTMTagger(\n",
    "    vocab_size=len(word2ind),\n",
    "    tagset_size=len(tag2ind)\n",
    ").cuda()\n",
    "\n",
    "criterion = nn.CrossEntropyLoss().cuda()\n",
    "optimizer = optim.Adam(model.parameters())\n",
    "\n",
    "fit(model, criterion, optimizer, train_data=(X_train, y_train), epochs_count=50,\n",
    "    batch_size=64, val_data=(X_val, y_val), val_batch_size=512)"
   ]
  },
  {
   "cell_type": "markdown",
   "metadata": {
    "colab_type": "text",
    "id": "m0qGetIhfUE5"
   },
   "source": [
    "### Masking\n",
    "\n",
    "**Задание** Проверьте себя - не считаете ли вы потери и accuracy на паддингах - очень легко получить высокое качество за счет этого.\n",
    "\n",
    "У функции потерь есть параметр `ignore_index`, для таких целей. Для accuracy нужно использовать маскинг - умножение на маску из нулей и единиц, где нули на позициях паддингов (а потом усреднение по ненулевым позициям в маске)."
   ]
  },
  {
   "cell_type": "markdown",
   "metadata": {
    "colab_type": "text",
    "id": "nAfV2dEOfHo5"
   },
   "source": [
    "**Задание** Посчитайте качество модели на тесте. Ожидается результат лучше бейзлайна!"
   ]
  },
  {
   "cell_type": "code",
   "execution_count": 31,
   "metadata": {
    "colab": {},
    "colab_type": "code",
    "id": "98wr38_rw55D"
   },
   "outputs": [
    {
     "data": {
      "text/plain": [
       "0.9305158209654042"
      ]
     },
     "execution_count": 31,
     "metadata": {},
     "output_type": "execute_result"
    }
   ],
   "source": [
    "correct_count = 0\n",
    "sum_count = 0\n",
    "\n",
    "for X_batch, y_batch in iterate_batches((X_test, y_test), 64):\n",
    "    X_batch, y_batch = LongTensor(X_batch), LongTensor(y_batch)\n",
    "    logits = model(X_batch)\n",
    "\n",
    "    preds = torch.argmax(logits, dim=-1)\n",
    "\n",
    "    mask = (y_batch != 0).float()\n",
    "    cur_correct_count = ((preds == y_batch).float() * mask).sum().item()\n",
    "    cur_sum_count = mask.sum().item()\n",
    "                \n",
    "    correct_count += cur_correct_count\n",
    "    sum_count += cur_sum_count\n",
    "\n",
    "correct_count / sum_count"
   ]
  },
  {
   "cell_type": "markdown",
   "metadata": {
    "colab_type": "text",
    "id": "PXUTSFaEHbDG"
   },
   "source": [
    "### Bidirectional LSTM\n",
    "\n",
    "Благодаря BiLSTM можно использовать сразу оба контеста при предсказании тега слова. Т.е. для каждого токена $w_i$ forward LSTM будет выдавать представление $\\mathbf{f_i} \\sim (w_1, \\ldots, w_i)$ - построенное по всему левому контексту - и $\\mathbf{b_i} \\sim (w_n, \\ldots, w_i)$ - представление правого контекста. Их конкатенация автоматически захватит весь доступный контекст слова: $\\mathbf{h_i} = [\\mathbf{f_i}, \\mathbf{b_i}] \\sim (w_1, \\ldots, w_n)$.\n",
    "\n",
    "![BiLSTM](https://www.researchgate.net/profile/Wang_Ling/publication/280912217/figure/fig2/AS:391505383575555@1470353565299/Illustration-of-our-neural-network-for-POS-tagging.png)  \n",
    "*From [Finding Function in Form: Compositional Character Models for Open Vocabulary Word Representation](https://arxiv.org/abs/1508.02096)*\n",
    "\n",
    "**Задание** Добавьте Bidirectional LSTM."
   ]
  },
  {
   "cell_type": "code",
   "execution_count": 32,
   "metadata": {},
   "outputs": [
    {
     "name": "stderr",
     "output_type": "stream",
     "text": [
      "[1 / 50] Train: Loss = 0.55782, Accuracy = 82.35%: 100%|██████████| 572/572 [00:14<00:00, 38.19it/s]\n",
      "[1 / 50]   Val: Loss = 0.27731, Accuracy = 90.93%: 100%|██████████| 13/13 [00:03<00:00,  4.06it/s]\n",
      "[2 / 50] Train: Loss = 0.20531, Accuracy = 93.45%: 100%|██████████| 572/572 [00:14<00:00, 39.03it/s]\n",
      "[2 / 50]   Val: Loss = 0.18185, Accuracy = 94.23%: 100%|██████████| 13/13 [00:02<00:00,  5.35it/s]\n",
      "[3 / 50] Train: Loss = 0.12987, Accuracy = 95.98%: 100%|██████████| 572/572 [00:14<00:00, 38.83it/s]\n",
      "[3 / 50]   Val: Loss = 0.14801, Accuracy = 95.23%: 100%|██████████| 13/13 [00:00<00:00, 15.86it/s]\n",
      "[4 / 50] Train: Loss = 0.08872, Accuracy = 97.30%: 100%|██████████| 572/572 [00:14<00:00, 39.07it/s]\n",
      "[4 / 50]   Val: Loss = 0.12792, Accuracy = 95.88%: 100%|██████████| 13/13 [00:00<00:00, 15.52it/s]\n",
      "[5 / 50] Train: Loss = 0.06160, Accuracy = 98.17%: 100%|██████████| 572/572 [00:15<00:00, 37.06it/s]\n",
      "[5 / 50]   Val: Loss = 0.11877, Accuracy = 96.15%: 100%|██████████| 13/13 [00:00<00:00, 14.28it/s]\n",
      "[6 / 50] Train: Loss = 0.04215, Accuracy = 98.79%: 100%|██████████| 572/572 [00:16<00:00, 34.75it/s]\n",
      "[6 / 50]   Val: Loss = 0.12572, Accuracy = 96.18%: 100%|██████████| 13/13 [00:00<00:00, 14.47it/s]\n",
      "[7 / 50] Train: Loss = 0.02831, Accuracy = 99.23%: 100%|██████████| 572/572 [00:16<00:00, 35.70it/s] \n",
      "[7 / 50]   Val: Loss = 0.12225, Accuracy = 96.35%: 100%|██████████| 13/13 [00:00<00:00, 15.26it/s]\n",
      "[8 / 50] Train: Loss = 0.01876, Accuracy = 99.51%: 100%|██████████| 572/572 [00:16<00:00, 35.46it/s]\n",
      "[8 / 50]   Val: Loss = 0.13059, Accuracy = 96.41%: 100%|██████████| 13/13 [00:00<00:00, 13.33it/s]\n",
      "[9 / 50] Train: Loss = 0.01210, Accuracy = 99.71%: 100%|██████████| 572/572 [00:16<00:00, 34.36it/s] \n",
      "[9 / 50]   Val: Loss = 0.13371, Accuracy = 96.32%: 100%|██████████| 13/13 [00:00<00:00, 14.80it/s]\n",
      "[10 / 50] Train: Loss = 0.00785, Accuracy = 99.84%: 100%|██████████| 572/572 [00:16<00:00, 35.22it/s] \n",
      "[10 / 50]   Val: Loss = 0.14452, Accuracy = 96.29%: 100%|██████████| 13/13 [00:00<00:00, 13.76it/s]\n",
      "[11 / 50] Train: Loss = 0.00484, Accuracy = 99.92%: 100%|██████████| 572/572 [00:16<00:00, 35.16it/s] \n",
      "[11 / 50]   Val: Loss = 0.15259, Accuracy = 96.39%: 100%|██████████| 13/13 [00:00<00:00, 13.71it/s]\n",
      "[12 / 50] Train: Loss = 0.00300, Accuracy = 99.96%: 100%|██████████| 572/572 [00:16<00:00, 34.24it/s] \n",
      "[12 / 50]   Val: Loss = 0.15942, Accuracy = 96.34%: 100%|██████████| 13/13 [00:00<00:00, 14.16it/s]\n",
      "[13 / 50] Train: Loss = 0.00193, Accuracy = 99.98%: 100%|██████████| 572/572 [00:17<00:00, 33.10it/s] \n",
      "[13 / 50]   Val: Loss = 0.16634, Accuracy = 96.37%: 100%|██████████| 13/13 [00:00<00:00, 13.67it/s]\n",
      "[14 / 50] Train: Loss = 0.00155, Accuracy = 99.98%: 100%|██████████| 572/572 [00:17<00:00, 33.44it/s] \n",
      "[14 / 50]   Val: Loss = 0.17710, Accuracy = 96.28%: 100%|██████████| 13/13 [00:00<00:00, 13.70it/s]\n",
      "[15 / 50] Train: Loss = 0.00126, Accuracy = 99.98%: 100%|██████████| 572/572 [00:17<00:00, 33.49it/s] \n",
      "[15 / 50]   Val: Loss = 0.18857, Accuracy = 96.37%: 100%|██████████| 13/13 [00:00<00:00, 14.42it/s]\n",
      "[16 / 50] Train: Loss = 0.00134, Accuracy = 99.98%: 100%|██████████| 572/572 [00:15<00:00, 35.94it/s] \n",
      "[16 / 50]   Val: Loss = 0.19435, Accuracy = 96.32%: 100%|██████████| 13/13 [00:00<00:00, 14.92it/s]\n",
      "[17 / 50] Train: Loss = 0.00382, Accuracy = 99.89%: 100%|██████████| 572/572 [00:17<00:00, 32.39it/s] \n",
      "[17 / 50]   Val: Loss = 0.19253, Accuracy = 96.34%: 100%|██████████| 13/13 [00:00<00:00, 13.86it/s]\n",
      "[18 / 50] Train: Loss = 0.00122, Accuracy = 99.98%: 100%|██████████| 572/572 [00:17<00:00, 32.86it/s] \n",
      "[18 / 50]   Val: Loss = 0.19400, Accuracy = 96.46%: 100%|██████████| 13/13 [00:00<00:00, 13.85it/s]\n",
      "[19 / 50] Train: Loss = 0.00041, Accuracy = 100.00%: 100%|██████████| 572/572 [00:21<00:00, 26.98it/s]\n",
      "[19 / 50]   Val: Loss = 0.19466, Accuracy = 96.49%: 100%|██████████| 13/13 [00:01<00:00, 12.59it/s]\n",
      "[20 / 50] Train: Loss = 0.00020, Accuracy = 100.00%: 100%|██████████| 572/572 [00:18<00:00, 31.68it/s]\n",
      "[20 / 50]   Val: Loss = 0.19972, Accuracy = 96.49%: 100%|██████████| 13/13 [00:00<00:00, 13.45it/s]\n",
      "[21 / 50] Train: Loss = 0.00015, Accuracy = 100.00%: 100%|██████████| 572/572 [00:17<00:00, 31.92it/s]\n",
      "[21 / 50]   Val: Loss = 0.20174, Accuracy = 96.51%: 100%|██████████| 13/13 [00:00<00:00, 13.32it/s]\n",
      "[22 / 50] Train: Loss = 0.00012, Accuracy = 100.00%: 100%|██████████| 572/572 [00:18<00:00, 31.01it/s]\n",
      "[22 / 50]   Val: Loss = 0.20811, Accuracy = 96.46%: 100%|██████████| 13/13 [00:00<00:00, 13.40it/s]\n",
      "[23 / 50] Train: Loss = 0.00438, Accuracy = 99.85%: 100%|██████████| 572/572 [00:18<00:00, 31.42it/s] \n",
      "[23 / 50]   Val: Loss = 0.20475, Accuracy = 96.34%: 100%|██████████| 13/13 [00:01<00:00, 12.81it/s]\n",
      "[24 / 50] Train: Loss = 0.00195, Accuracy = 99.94%: 100%|██████████| 572/572 [00:17<00:00, 31.94it/s] \n",
      "[24 / 50]   Val: Loss = 0.19968, Accuracy = 96.48%: 100%|██████████| 13/13 [00:00<00:00, 13.46it/s]\n",
      "[25 / 50] Train: Loss = 0.00042, Accuracy = 99.99%: 100%|██████████| 572/572 [00:17<00:00, 32.27it/s] \n",
      "[25 / 50]   Val: Loss = 0.20285, Accuracy = 96.54%: 100%|██████████| 13/13 [00:01<00:00, 12.70it/s]\n",
      "[26 / 50] Train: Loss = 0.00013, Accuracy = 100.00%: 100%|██████████| 572/572 [00:19<00:00, 30.10it/s]\n",
      "[26 / 50]   Val: Loss = 0.20515, Accuracy = 96.56%: 100%|██████████| 13/13 [00:00<00:00, 13.30it/s]\n",
      "[27 / 50] Train: Loss = 0.00009, Accuracy = 100.00%: 100%|██████████| 572/572 [00:18<00:00, 30.65it/s]\n",
      "[27 / 50]   Val: Loss = 0.20657, Accuracy = 96.60%: 100%|██████████| 13/13 [00:01<00:00, 12.81it/s]\n",
      "[28 / 50] Train: Loss = 0.00007, Accuracy = 100.00%: 100%|██████████| 572/572 [00:19<00:00, 29.35it/s]\n",
      "[28 / 50]   Val: Loss = 0.21074, Accuracy = 96.59%: 100%|██████████| 13/13 [00:01<00:00, 12.85it/s]\n",
      "[29 / 50] Train: Loss = 0.00008, Accuracy = 100.00%: 100%|██████████| 572/572 [00:18<00:00, 31.39it/s]\n",
      "[29 / 50]   Val: Loss = 0.20964, Accuracy = 96.61%: 100%|██████████| 13/13 [00:00<00:00, 13.03it/s]\n",
      "[30 / 50] Train: Loss = 0.00011, Accuracy = 100.00%: 100%|██████████| 572/572 [00:18<00:00, 30.96it/s]\n",
      "[30 / 50]   Val: Loss = 0.21858, Accuracy = 96.55%: 100%|██████████| 13/13 [00:00<00:00, 13.77it/s]\n",
      "[31 / 50] Train: Loss = 0.00501, Accuracy = 99.83%: 100%|██████████| 572/572 [00:18<00:00, 31.14it/s] \n",
      "[31 / 50]   Val: Loss = 0.22023, Accuracy = 96.33%: 100%|██████████| 13/13 [00:00<00:00, 13.05it/s]\n",
      "[32 / 50] Train: Loss = 0.00101, Accuracy = 99.97%: 100%|██████████| 572/572 [00:18<00:00, 31.11it/s] \n",
      "[32 / 50]   Val: Loss = 0.21859, Accuracy = 96.38%: 100%|██████████| 13/13 [00:00<00:00, 13.11it/s]\n",
      "[33 / 50] Train: Loss = 0.00021, Accuracy = 100.00%: 100%|██████████| 572/572 [00:19<00:00, 29.89it/s]\n",
      "[33 / 50]   Val: Loss = 0.21494, Accuracy = 96.50%: 100%|██████████| 13/13 [00:00<00:00, 13.08it/s]\n",
      "[34 / 50] Train: Loss = 0.00009, Accuracy = 100.00%: 100%|██████████| 572/572 [00:18<00:00, 30.42it/s]\n",
      "[34 / 50]   Val: Loss = 0.21806, Accuracy = 96.50%: 100%|██████████| 13/13 [00:01<00:00, 12.99it/s]\n",
      "[35 / 50] Train: Loss = 0.00007, Accuracy = 100.00%: 100%|██████████| 572/572 [00:18<00:00, 30.64it/s]\n",
      "[35 / 50]   Val: Loss = 0.21903, Accuracy = 96.52%: 100%|██████████| 13/13 [00:00<00:00, 13.20it/s]\n",
      "[36 / 50] Train: Loss = 0.00005, Accuracy = 100.00%: 100%|██████████| 572/572 [00:18<00:00, 30.78it/s]\n",
      "[36 / 50]   Val: Loss = 0.22453, Accuracy = 96.52%: 100%|██████████| 13/13 [00:00<00:00, 13.09it/s]\n",
      "[37 / 50] Train: Loss = 0.00005, Accuracy = 100.00%: 100%|██████████| 572/572 [00:18<00:00, 30.97it/s]\n",
      "[37 / 50]   Val: Loss = 0.22443, Accuracy = 96.53%: 100%|██████████| 13/13 [00:01<00:00, 12.85it/s]\n",
      "[38 / 50] Train: Loss = 0.00005, Accuracy = 100.00%: 100%|██████████| 572/572 [00:18<00:00, 31.53it/s]\n",
      "[38 / 50]   Val: Loss = 0.22536, Accuracy = 96.53%: 100%|██████████| 13/13 [00:00<00:00, 14.14it/s]\n",
      "[39 / 50] Train: Loss = 0.00004, Accuracy = 100.00%: 100%|██████████| 572/572 [00:16<00:00, 33.72it/s]\n",
      "[39 / 50]   Val: Loss = 0.22858, Accuracy = 96.52%: 100%|██████████| 13/13 [00:00<00:00, 13.71it/s]\n",
      "[40 / 50] Train: Loss = 0.00005, Accuracy = 100.00%: 100%|██████████| 572/572 [00:17<00:00, 32.25it/s]\n",
      "[40 / 50]   Val: Loss = 0.23189, Accuracy = 96.55%: 100%|██████████| 13/13 [00:01<00:00, 12.77it/s]\n",
      "[41 / 50] Train: Loss = 0.00218, Accuracy = 99.93%: 100%|██████████| 572/572 [00:17<00:00, 33.52it/s] \n",
      "[41 / 50]   Val: Loss = 0.26141, Accuracy = 96.27%: 100%|██████████| 13/13 [00:00<00:00, 14.06it/s]\n",
      "[42 / 50] Train: Loss = 0.00359, Accuracy = 99.88%: 100%|██████████| 572/572 [00:16<00:00, 35.60it/s] \n",
      "[42 / 50]   Val: Loss = 0.24515, Accuracy = 96.36%: 100%|██████████| 13/13 [00:00<00:00, 13.61it/s]\n",
      "[43 / 50] Train: Loss = 0.00039, Accuracy = 99.99%: 100%|██████████| 572/572 [00:16<00:00, 33.70it/s] \n",
      "[43 / 50]   Val: Loss = 0.23532, Accuracy = 96.48%: 100%|██████████| 13/13 [00:00<00:00, 13.61it/s]\n",
      "[44 / 50] Train: Loss = 0.00010, Accuracy = 100.00%: 100%|██████████| 572/572 [00:18<00:00, 31.16it/s]\n",
      "[44 / 50]   Val: Loss = 0.23663, Accuracy = 96.53%: 100%|██████████| 13/13 [00:00<00:00, 13.97it/s]\n",
      "[45 / 50] Train: Loss = 0.00005, Accuracy = 100.00%: 100%|██████████| 572/572 [00:18<00:00, 31.09it/s]\n",
      "[45 / 50]   Val: Loss = 0.23751, Accuracy = 96.53%: 100%|██████████| 13/13 [00:01<00:00, 12.80it/s]\n",
      "[46 / 50] Train: Loss = 0.00005, Accuracy = 100.00%: 100%|██████████| 572/572 [00:18<00:00, 30.41it/s]\n",
      "[46 / 50]   Val: Loss = 0.24041, Accuracy = 96.51%: 100%|██████████| 13/13 [00:00<00:00, 14.46it/s]\n",
      "[47 / 50] Train: Loss = 0.00004, Accuracy = 100.00%: 100%|██████████| 572/572 [00:18<00:00, 30.63it/s]\n",
      "[47 / 50]   Val: Loss = 0.24127, Accuracy = 96.52%: 100%|██████████| 13/13 [00:00<00:00, 13.26it/s]\n",
      "[48 / 50] Train: Loss = 0.00004, Accuracy = 100.00%: 100%|██████████| 572/572 [00:18<00:00, 30.43it/s]\n",
      "[48 / 50]   Val: Loss = 0.24123, Accuracy = 96.55%: 100%|██████████| 13/13 [00:01<00:00, 12.55it/s]\n",
      "[49 / 50] Train: Loss = 0.00004, Accuracy = 100.00%: 100%|██████████| 572/572 [00:18<00:00, 30.89it/s]\n",
      "[49 / 50]   Val: Loss = 0.24415, Accuracy = 96.57%: 100%|██████████| 13/13 [00:00<00:00, 13.19it/s]\n",
      "[50 / 50] Train: Loss = 0.00004, Accuracy = 100.00%: 100%|██████████| 572/572 [00:18<00:00, 30.75it/s]\n",
      "[50 / 50]   Val: Loss = 0.24841, Accuracy = 96.56%: 100%|██████████| 13/13 [00:01<00:00, 12.85it/s]\n",
      "Test: Loss = 0.24621, Accuracy = 96.56%: 100%|██████████| 13/13 [00:00<00:00, 13.10it/s]"
     ]
    },
    {
     "name": "stdout",
     "output_type": "stream",
     "text": [
      "\n",
      "Final Test Accuracy: 96.56%, Test Loss: 0.24621\n"
     ]
    },
    {
     "name": "stderr",
     "output_type": "stream",
     "text": [
      "\n"
     ]
    },
    {
     "data": {
      "text/plain": [
       "0.9655986071444935"
      ]
     },
     "execution_count": 32,
     "metadata": {},
     "output_type": "execute_result"
    }
   ],
   "source": [
    "class BidirectionalLSTMTagger(nn.Module):\n",
    "    def __init__(self, vocab_size, tagset_size, word_emb_dim=100, lstm_hidden_dim=128, lstm_layers_count=1):\n",
    "        super().__init__()\n",
    "        self.embedding = nn.Embedding(vocab_size, word_emb_dim)\n",
    "        self.lstm = nn.LSTM(word_emb_dim, lstm_hidden_dim, num_layers=lstm_layers_count, bidirectional=True)\n",
    "        self.FC = nn.Linear(lstm_hidden_dim * 2, tagset_size)\n",
    "\n",
    "    def forward(self, inputs):\n",
    "        embedding = self.embedding(inputs)\n",
    "        out, _ = self.lstm(embedding)\n",
    "        return self.FC(out)\n",
    "\n",
    "model = BidirectionalLSTMTagger(\n",
    "    vocab_size=len(word2ind),\n",
    "    tagset_size=len(tag2ind)\n",
    ").cuda()\n",
    "\n",
    "criterion = nn.CrossEntropyLoss().cuda()\n",
    "optimizer = optim.Adam(model.parameters())\n",
    "\n",
    "fit(model, criterion, optimizer, train_data=(X_train, y_train), epochs_count=50,\n",
    "    batch_size=64, val_data=(X_val, y_val), val_batch_size=512)"
   ]
  },
  {
   "cell_type": "code",
   "execution_count": 33,
   "metadata": {},
   "outputs": [
    {
     "data": {
      "text/plain": [
       "0.9652252047550686"
      ]
     },
     "execution_count": 33,
     "metadata": {},
     "output_type": "execute_result"
    }
   ],
   "source": [
    "correct_count = 0\n",
    "sum_count = 0\n",
    "\n",
    "for X_batch, y_batch in iterate_batches((X_test, y_test), 64):\n",
    "    X_batch, y_batch = LongTensor(X_batch), LongTensor(y_batch)\n",
    "    logits = model(X_batch)\n",
    "\n",
    "    preds = torch.argmax(logits, dim=-1)\n",
    "\n",
    "    mask = (y_batch != 0).float()\n",
    "    cur_correct_count = ((preds == y_batch).float() * mask).sum().item()\n",
    "    cur_sum_count = mask.sum().item()\n",
    "                \n",
    "    correct_count += cur_correct_count\n",
    "    sum_count += cur_sum_count\n",
    "\n",
    "correct_count / sum_count"
   ]
  },
  {
   "cell_type": "markdown",
   "metadata": {
    "colab_type": "text",
    "id": "ZTXmYGD_ANhm"
   },
   "source": [
    "### Предобученные эмбеддинги\n",
    "\n",
    "Мы знаем, какая клёвая вещь - предобученные эмбеддинги. При текущем размере обучающей выборки еще можно было учить их и с нуля - с меньшей было бы совсем плохо.\n",
    "\n",
    "Поэтому стандартный пайплайн - скачать эмбеддинги, засунуть их в сеточку. Запустим его:"
   ]
  },
  {
   "cell_type": "code",
   "execution_count": 41,
   "metadata": {
    "colab": {},
    "colab_type": "code",
    "id": "uZpY_Q1xZ18h"
   },
   "outputs": [
    {
     "name": "stdout",
     "output_type": "stream",
     "text": [
      "[==================================================] 100.0% 128.1/128.1MB downloaded\n"
     ]
    }
   ],
   "source": [
    "import gensim.downloader as api\n",
    "\n",
    "w2v_model = api.load('glove-wiki-gigaword-100')\n"
   ]
  },
  {
   "cell_type": "markdown",
   "metadata": {
    "colab_type": "text",
    "id": "KYogOoKlgtcf"
   },
   "source": [
    "Построим подматрицу для слов из нашей тренировочной выборки:"
   ]
  },
  {
   "cell_type": "code",
   "execution_count": 42,
   "metadata": {
    "colab": {},
    "colab_type": "code",
    "id": "VsCstxiO03oT"
   },
   "outputs": [
    {
     "name": "stdout",
     "output_type": "stream",
     "text": [
      "Know 38736 out of 45441 word embeddings\n"
     ]
    }
   ],
   "source": [
    "known_count = 0\n",
    "embeddings = np.zeros((len(word2ind), w2v_model.vectors.shape[1]))\n",
    "for word, ind in word2ind.items():\n",
    "    word = word.lower()\n",
    "    if word in w2v_model.vocab:\n",
    "        embeddings[ind] = w2v_model.get_vector(word)\n",
    "        known_count += 1\n",
    "        \n",
    "print('Know {} out of {} word embeddings'.format(known_count, len(word2ind)))"
   ]
  },
  {
   "cell_type": "markdown",
   "metadata": {
    "colab_type": "text",
    "id": "HcG7i-R8hbY3"
   },
   "source": [
    "**Задание** Сделайте модель с предобученной матрицей. Используйте `nn.Embedding.from_pretrained`."
   ]
  },
  {
   "cell_type": "code",
   "execution_count": 43,
   "metadata": {
    "colab": {},
    "colab_type": "code",
    "id": "LxaRBpQd0pat"
   },
   "outputs": [],
   "source": [
    "class LSTMTaggerWithPretrainedEmbs(nn.Module):\n",
    "    def __init__(self, embeddings, tagset_size, lstm_hidden_dim=64, lstm_layers_count=1):\n",
    "        super().__init__()\n",
    "        embeddings = torch.FloatTensor(embeddings)\n",
    "        self.embedding =nn.Embedding.from_pretrained(embeddings)\n",
    "        self.lstm = nn.LSTM(embeddings.shape[1], lstm_hidden_dim, num_layers=lstm_layers_count)\n",
    "        self.FC = nn.Linear(lstm_hidden_dim, tagset_size)\n",
    "\n",
    "    def forward(self, inputs):\n",
    "        \n",
    "        embedding = self.embedding(inputs)\n",
    "        out, _ = self.lstm(embedding)\n",
    "        return self.FC(out)  "
   ]
  },
  {
   "cell_type": "code",
   "execution_count": 44,
   "metadata": {
    "colab": {},
    "colab_type": "code",
    "id": "EBtI6BDE-Fc7"
   },
   "outputs": [
    {
     "name": "stderr",
     "output_type": "stream",
     "text": [
      "[1 / 50] Train: Loss = 0.74402, Accuracy = 77.96%: 100%|██████████| 572/572 [00:04<00:00, 133.53it/s]\n",
      "[1 / 50]   Val: Loss = 0.36431, Accuracy = 89.36%: 100%|██████████| 13/13 [00:00<00:00, 66.82it/s]\n",
      "[2 / 50] Train: Loss = 0.28088, Accuracy = 91.51%: 100%|██████████| 572/572 [00:03<00:00, 150.40it/s]\n",
      "[2 / 50]   Val: Loss = 0.25432, Accuracy = 92.20%: 100%|██████████| 13/13 [00:00<00:00, 66.62it/s]\n",
      "[3 / 50] Train: Loss = 0.20649, Accuracy = 93.52%: 100%|██████████| 572/572 [00:04<00:00, 131.55it/s]\n",
      "[3 / 50]   Val: Loss = 0.20640, Accuracy = 93.41%: 100%|██████████| 13/13 [00:00<00:00, 53.00it/s]\n",
      "[4 / 50] Train: Loss = 0.16956, Accuracy = 94.55%: 100%|██████████| 572/572 [00:05<00:00, 99.98it/s] \n",
      "[4 / 50]   Val: Loss = 0.18068, Accuracy = 94.17%: 100%|██████████| 13/13 [00:00<00:00, 41.31it/s]\n",
      "[5 / 50] Train: Loss = 0.14913, Accuracy = 95.13%: 100%|██████████| 572/572 [00:06<00:00, 87.19it/s] \n",
      "[5 / 50]   Val: Loss = 0.16627, Accuracy = 94.54%: 100%|██████████| 13/13 [00:00<00:00, 45.02it/s]\n",
      "[6 / 50] Train: Loss = 0.13579, Accuracy = 95.50%: 100%|██████████| 572/572 [00:05<00:00, 96.02it/s] \n",
      "[6 / 50]   Val: Loss = 0.15719, Accuracy = 94.76%: 100%|██████████| 13/13 [00:00<00:00, 40.26it/s]\n",
      "[7 / 50] Train: Loss = 0.12617, Accuracy = 95.79%: 100%|██████████| 572/572 [00:06<00:00, 84.95it/s]\n",
      "[7 / 50]   Val: Loss = 0.15061, Accuracy = 94.97%: 100%|██████████| 13/13 [00:00<00:00, 42.20it/s]\n",
      "[8 / 50] Train: Loss = 0.11937, Accuracy = 95.96%: 100%|██████████| 572/572 [00:07<00:00, 75.15it/s]\n",
      "[8 / 50]   Val: Loss = 0.14581, Accuracy = 95.11%: 100%|██████████| 13/13 [00:00<00:00, 37.49it/s]\n",
      "[9 / 50] Train: Loss = 0.11358, Accuracy = 96.13%: 100%|██████████| 572/572 [00:07<00:00, 80.62it/s]\n",
      "[9 / 50]   Val: Loss = 0.14284, Accuracy = 95.26%: 100%|██████████| 13/13 [00:00<00:00, 36.25it/s]\n",
      "[10 / 50] Train: Loss = 0.10906, Accuracy = 96.24%: 100%|██████████| 572/572 [00:05<00:00, 95.93it/s] \n",
      "[10 / 50]   Val: Loss = 0.13993, Accuracy = 95.28%: 100%|██████████| 13/13 [00:00<00:00, 41.53it/s]\n",
      "[11 / 50] Train: Loss = 0.10561, Accuracy = 96.36%: 100%|██████████| 572/572 [00:05<00:00, 102.04it/s]\n",
      "[11 / 50]   Val: Loss = 0.13833, Accuracy = 95.32%: 100%|██████████| 13/13 [00:00<00:00, 40.39it/s]\n",
      "[12 / 50] Train: Loss = 0.10200, Accuracy = 96.45%: 100%|██████████| 572/572 [00:06<00:00, 84.28it/s]\n",
      "[12 / 50]   Val: Loss = 0.13604, Accuracy = 95.30%: 100%|██████████| 13/13 [00:00<00:00, 36.76it/s]\n",
      "[13 / 50] Train: Loss = 0.09937, Accuracy = 96.53%: 100%|██████████| 572/572 [00:06<00:00, 83.55it/s] \n",
      "[13 / 50]   Val: Loss = 0.13578, Accuracy = 95.47%: 100%|██████████| 13/13 [00:00<00:00, 38.04it/s]\n",
      "[14 / 50] Train: Loss = 0.09684, Accuracy = 96.63%: 100%|██████████| 572/572 [00:07<00:00, 77.33it/s]\n",
      "[14 / 50]   Val: Loss = 0.13379, Accuracy = 95.37%: 100%|██████████| 13/13 [00:00<00:00, 41.52it/s]\n",
      "[15 / 50] Train: Loss = 0.09444, Accuracy = 96.67%: 100%|██████████| 572/572 [00:08<00:00, 68.53it/s]\n",
      "[15 / 50]   Val: Loss = 0.13350, Accuracy = 95.32%: 100%|██████████| 13/13 [00:00<00:00, 36.56it/s]\n",
      "[16 / 50] Train: Loss = 0.09241, Accuracy = 96.76%: 100%|██████████| 572/572 [00:08<00:00, 68.91it/s]\n",
      "[16 / 50]   Val: Loss = 0.13334, Accuracy = 95.43%: 100%|██████████| 13/13 [00:00<00:00, 34.39it/s]\n",
      "[17 / 50] Train: Loss = 0.09046, Accuracy = 96.81%: 100%|██████████| 572/572 [00:07<00:00, 80.09it/s] \n",
      "[17 / 50]   Val: Loss = 0.13389, Accuracy = 95.47%: 100%|██████████| 13/13 [00:00<00:00, 28.62it/s]\n",
      "[18 / 50] Train: Loss = 0.08882, Accuracy = 96.87%: 100%|██████████| 572/572 [00:07<00:00, 72.79it/s]\n",
      "[18 / 50]   Val: Loss = 0.13220, Accuracy = 95.46%: 100%|██████████| 13/13 [00:00<00:00, 36.12it/s]\n",
      "[19 / 50] Train: Loss = 0.08752, Accuracy = 96.91%: 100%|██████████| 572/572 [00:07<00:00, 77.71it/s]\n",
      "[19 / 50]   Val: Loss = 0.13322, Accuracy = 95.56%: 100%|██████████| 13/13 [00:00<00:00, 37.80it/s]\n",
      "[20 / 50] Train: Loss = 0.08585, Accuracy = 96.98%: 100%|██████████| 572/572 [00:06<00:00, 88.21it/s]\n",
      "[20 / 50]   Val: Loss = 0.13269, Accuracy = 95.43%: 100%|██████████| 13/13 [00:00<00:00, 35.59it/s]\n",
      "[21 / 50] Train: Loss = 0.08453, Accuracy = 97.01%: 100%|██████████| 572/572 [00:07<00:00, 73.81it/s]\n",
      "[21 / 50]   Val: Loss = 0.13160, Accuracy = 95.48%: 100%|██████████| 13/13 [00:00<00:00, 35.37it/s]\n",
      "[22 / 50] Train: Loss = 0.08316, Accuracy = 97.05%: 100%|██████████| 572/572 [00:10<00:00, 54.55it/s]\n",
      "[22 / 50]   Val: Loss = 0.13174, Accuracy = 95.46%: 100%|██████████| 13/13 [00:00<00:00, 20.97it/s]\n",
      "[23 / 50] Train: Loss = 0.08189, Accuracy = 97.09%: 100%|██████████| 572/572 [00:07<00:00, 81.62it/s]\n",
      "[23 / 50]   Val: Loss = 0.13230, Accuracy = 95.45%: 100%|██████████| 13/13 [00:00<00:00, 38.77it/s]\n",
      "[24 / 50] Train: Loss = 0.08081, Accuracy = 97.13%: 100%|██████████| 572/572 [00:06<00:00, 87.52it/s]\n",
      "[24 / 50]   Val: Loss = 0.13276, Accuracy = 95.48%: 100%|██████████| 13/13 [00:00<00:00, 37.85it/s]\n",
      "[25 / 50] Train: Loss = 0.07974, Accuracy = 97.17%: 100%|██████████| 572/572 [00:06<00:00, 86.37it/s]\n",
      "[25 / 50]   Val: Loss = 0.13261, Accuracy = 95.56%: 100%|██████████| 13/13 [00:00<00:00, 38.90it/s]\n",
      "[26 / 50] Train: Loss = 0.07868, Accuracy = 97.20%: 100%|██████████| 572/572 [00:07<00:00, 80.35it/s]\n",
      "[26 / 50]   Val: Loss = 0.13377, Accuracy = 95.52%: 100%|██████████| 13/13 [00:00<00:00, 31.34it/s]\n",
      "[27 / 50] Train: Loss = 0.07773, Accuracy = 97.23%: 100%|██████████| 572/572 [00:07<00:00, 73.93it/s]\n",
      "[27 / 50]   Val: Loss = 0.13396, Accuracy = 95.49%: 100%|██████████| 13/13 [00:00<00:00, 39.44it/s]\n",
      "[28 / 50] Train: Loss = 0.07676, Accuracy = 97.26%: 100%|██████████| 572/572 [00:06<00:00, 83.57it/s]\n",
      "[28 / 50]   Val: Loss = 0.13367, Accuracy = 95.61%: 100%|██████████| 13/13 [00:00<00:00, 33.95it/s]\n",
      "[29 / 50] Train: Loss = 0.07600, Accuracy = 97.29%: 100%|██████████| 572/572 [00:07<00:00, 81.62it/s]\n",
      "[29 / 50]   Val: Loss = 0.13253, Accuracy = 95.60%: 100%|██████████| 13/13 [00:00<00:00, 35.77it/s]\n",
      "[30 / 50] Train: Loss = 0.07505, Accuracy = 97.30%: 100%|██████████| 572/572 [00:07<00:00, 78.53it/s]\n",
      "[30 / 50]   Val: Loss = 0.13545, Accuracy = 95.44%: 100%|██████████| 13/13 [00:00<00:00, 38.44it/s]\n",
      "[31 / 50] Train: Loss = 0.07408, Accuracy = 97.37%: 100%|██████████| 572/572 [00:06<00:00, 90.33it/s]\n",
      "[31 / 50]   Val: Loss = 0.13623, Accuracy = 95.48%: 100%|██████████| 13/13 [00:00<00:00, 43.89it/s]\n",
      "[32 / 50] Train: Loss = 0.07339, Accuracy = 97.39%: 100%|██████████| 572/572 [00:05<00:00, 102.78it/s]\n",
      "[32 / 50]   Val: Loss = 0.13675, Accuracy = 95.49%: 100%|██████████| 13/13 [00:00<00:00, 46.12it/s]\n",
      "[33 / 50] Train: Loss = 0.07249, Accuracy = 97.41%: 100%|██████████| 572/572 [00:05<00:00, 101.93it/s]\n",
      "[33 / 50]   Val: Loss = 0.13800, Accuracy = 95.36%: 100%|██████████| 13/13 [00:00<00:00, 43.92it/s]\n",
      "[34 / 50] Train: Loss = 0.07196, Accuracy = 97.43%: 100%|██████████| 572/572 [00:05<00:00, 102.49it/s]\n",
      "[34 / 50]   Val: Loss = 0.13656, Accuracy = 95.46%: 100%|██████████| 13/13 [00:00<00:00, 41.87it/s]\n",
      "[35 / 50] Train: Loss = 0.07095, Accuracy = 97.46%: 100%|██████████| 572/572 [00:05<00:00, 97.81it/s] \n",
      "[35 / 50]   Val: Loss = 0.13881, Accuracy = 95.46%: 100%|██████████| 13/13 [00:00<00:00, 37.71it/s]\n",
      "[36 / 50] Train: Loss = 0.07035, Accuracy = 97.48%: 100%|██████████| 572/572 [00:07<00:00, 79.40it/s] \n",
      "[36 / 50]   Val: Loss = 0.13646, Accuracy = 95.45%: 100%|██████████| 13/13 [00:00<00:00, 33.10it/s]\n",
      "[37 / 50] Train: Loss = 0.06929, Accuracy = 97.52%: 100%|██████████| 572/572 [00:07<00:00, 75.89it/s]\n",
      "[37 / 50]   Val: Loss = 0.13714, Accuracy = 95.45%: 100%|██████████| 13/13 [00:00<00:00, 37.10it/s]\n",
      "[38 / 50] Train: Loss = 0.06890, Accuracy = 97.54%: 100%|██████████| 572/572 [00:06<00:00, 83.89it/s]\n",
      "[38 / 50]   Val: Loss = 0.13936, Accuracy = 95.40%: 100%|██████████| 13/13 [00:00<00:00, 37.88it/s]\n",
      "[39 / 50] Train: Loss = 0.06836, Accuracy = 97.55%: 100%|██████████| 572/572 [00:07<00:00, 77.31it/s]\n",
      "[39 / 50]   Val: Loss = 0.13939, Accuracy = 95.43%: 100%|██████████| 13/13 [00:00<00:00, 35.33it/s]\n",
      "[40 / 50] Train: Loss = 0.06752, Accuracy = 97.59%: 100%|██████████| 572/572 [00:07<00:00, 78.36it/s]\n",
      "[40 / 50]   Val: Loss = 0.14094, Accuracy = 95.40%: 100%|██████████| 13/13 [00:00<00:00, 36.68it/s]\n",
      "[41 / 50] Train: Loss = 0.06682, Accuracy = 97.60%: 100%|██████████| 572/572 [00:07<00:00, 76.66it/s]\n",
      "[41 / 50]   Val: Loss = 0.14040, Accuracy = 95.41%: 100%|██████████| 13/13 [00:00<00:00, 34.73it/s]\n",
      "[42 / 50] Train: Loss = 0.06624, Accuracy = 97.62%: 100%|██████████| 572/572 [00:07<00:00, 74.84it/s]\n",
      "[42 / 50]   Val: Loss = 0.14105, Accuracy = 95.38%: 100%|██████████| 13/13 [00:00<00:00, 45.60it/s]\n",
      "[43 / 50] Train: Loss = 0.06569, Accuracy = 97.65%: 100%|██████████| 572/572 [00:07<00:00, 75.13it/s]\n",
      "[43 / 50]   Val: Loss = 0.14144, Accuracy = 95.49%: 100%|██████████| 13/13 [00:00<00:00, 32.63it/s]\n",
      "[44 / 50] Train: Loss = 0.06508, Accuracy = 97.67%: 100%|██████████| 572/572 [00:07<00:00, 72.10it/s]\n",
      "[44 / 50]   Val: Loss = 0.14193, Accuracy = 95.42%: 100%|██████████| 13/13 [00:00<00:00, 30.32it/s]\n",
      "[45 / 50] Train: Loss = 0.06455, Accuracy = 97.68%: 100%|██████████| 572/572 [00:08<00:00, 70.80it/s]\n",
      "[45 / 50]   Val: Loss = 0.14319, Accuracy = 95.33%: 100%|██████████| 13/13 [00:00<00:00, 45.29it/s]\n",
      "[46 / 50] Train: Loss = 0.06404, Accuracy = 97.70%: 100%|██████████| 572/572 [00:07<00:00, 78.26it/s]\n",
      "[46 / 50]   Val: Loss = 0.14577, Accuracy = 95.30%: 100%|██████████| 13/13 [00:00<00:00, 40.84it/s]\n",
      "[47 / 50] Train: Loss = 0.06354, Accuracy = 97.72%: 100%|██████████| 572/572 [00:08<00:00, 70.07it/s]\n",
      "[47 / 50]   Val: Loss = 0.14687, Accuracy = 95.30%: 100%|██████████| 13/13 [00:00<00:00, 48.32it/s]\n",
      "[48 / 50] Train: Loss = 0.06306, Accuracy = 97.74%: 100%|██████████| 572/572 [00:06<00:00, 85.49it/s]\n",
      "[48 / 50]   Val: Loss = 0.14609, Accuracy = 95.32%: 100%|██████████| 13/13 [00:00<00:00, 27.27it/s]\n",
      "[49 / 50] Train: Loss = 0.06240, Accuracy = 97.76%: 100%|██████████| 572/572 [00:11<00:00, 51.07it/s]\n",
      "[49 / 50]   Val: Loss = 0.14555, Accuracy = 95.30%: 100%|██████████| 13/13 [00:00<00:00, 42.10it/s]\n",
      "[50 / 50] Train: Loss = 0.06213, Accuracy = 97.78%: 100%|██████████| 572/572 [00:07<00:00, 72.15it/s]\n",
      "[50 / 50]   Val: Loss = 0.14978, Accuracy = 95.23%: 100%|██████████| 13/13 [00:00<00:00, 37.40it/s]\n",
      "Test: Loss = 0.15020, Accuracy = 95.23%: 100%|██████████| 13/13 [00:00<00:00, 43.68it/s]"
     ]
    },
    {
     "name": "stdout",
     "output_type": "stream",
     "text": [
      "\n",
      "Final Test Accuracy: 95.23%, Test Loss: 0.15020\n"
     ]
    },
    {
     "name": "stderr",
     "output_type": "stream",
     "text": [
      "\n"
     ]
    },
    {
     "data": {
      "text/plain": [
       "0.9522962261557494"
      ]
     },
     "execution_count": 44,
     "metadata": {},
     "output_type": "execute_result"
    }
   ],
   "source": [
    "model = LSTMTaggerWithPretrainedEmbs(\n",
    "    embeddings=embeddings,\n",
    "    tagset_size=len(tag2ind)\n",
    ").cuda()\n",
    "\n",
    "criterion = nn.CrossEntropyLoss(ignore_index=0)\n",
    "optimizer = optim.Adam(model.parameters())\n",
    "\n",
    "fit(model, criterion, optimizer, train_data=(X_train, y_train), epochs_count=50,\n",
    "    batch_size=64, val_data=(X_val, y_val), val_batch_size=512)"
   ]
  },
  {
   "cell_type": "markdown",
   "metadata": {
    "colab_type": "text",
    "id": "2Ne_8f24h8kg"
   },
   "source": [
    "**Задание** Оцените качество модели на тестовой выборке. Обратите внимание, вовсе не обязательно ограничиваться векторами из урезанной матрицы - вполне могут найтись слова в тесте, которых не было в трейне и для которых есть эмбеддинги.\n",
    "\n",
    "Добейтесь качества лучше прошлых моделей."
   ]
  },
  {
   "cell_type": "code",
   "execution_count": 45,
   "metadata": {
    "colab": {},
    "colab_type": "code",
    "id": "HPUuAPGhEGVR"
   },
   "outputs": [
    {
     "data": {
      "text/plain": [
       "0.9517883147599228"
      ]
     },
     "execution_count": 45,
     "metadata": {},
     "output_type": "execute_result"
    }
   ],
   "source": [
    "correct_count = 0\n",
    "sum_count = 0\n",
    "\n",
    "for X_batch, y_batch in iterate_batches((X_test, y_test), 64):\n",
    "    X_batch, y_batch = LongTensor(X_batch), LongTensor(y_batch)\n",
    "    logits = model(X_batch)\n",
    "\n",
    "    preds = torch.argmax(logits, dim=-1)\n",
    "\n",
    "    mask = (y_batch != 0).float()\n",
    "    cur_correct_count = ((preds == y_batch).float() * mask).sum().item()\n",
    "    cur_sum_count = mask.sum().item()\n",
    "                \n",
    "    correct_count += cur_correct_count\n",
    "    sum_count += cur_sum_count\n",
    "\n",
    "correct_count / sum_count"
   ]
  }
 ],
 "metadata": {
  "accelerator": "GPU",
  "colab": {
   "collapsed_sections": [],
   "name": "Week 06 - RNNs, part 2.ipynb",
   "provenance": [],
   "version": "0.3.2"
  },
  "kernelspec": {
   "display_name": ".venv",
   "language": "python",
   "name": "python3"
  },
  "language_info": {
   "codemirror_mode": {
    "name": "ipython",
    "version": 3
   },
   "file_extension": ".py",
   "mimetype": "text/x-python",
   "name": "python",
   "nbconvert_exporter": "python",
   "pygments_lexer": "ipython3",
   "version": "3.12.10"
  }
 },
 "nbformat": 4,
 "nbformat_minor": 1
}
